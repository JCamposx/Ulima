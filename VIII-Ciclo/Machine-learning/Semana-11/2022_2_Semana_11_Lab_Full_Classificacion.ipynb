{
  "cells": [
    {
      "cell_type": "markdown",
      "metadata": {
        "id": "u7GYHsVAJdRa"
      },
      "source": [
        "# Importamos librerías\n",
        "* Numpy para el trabajo numérico y de listas\n",
        "* Pandas para el trabajo con data\n",
        "* Matplotlib.pyplot para graficar\n",
        "* Seaborn para importar data y otros gráficos auxiliares"
      ]
    },
    {
      "cell_type": "code",
      "execution_count": 29,
      "metadata": {
        "id": "ugPQvsYZl7Yp"
      },
      "outputs": [],
      "source": [
        "import numpy as np\n",
        "import pandas as pd\n",
        "import matplotlib.pyplot as plt\n",
        "import seaborn as sns"
      ]
    },
    {
      "cell_type": "markdown",
      "metadata": {
        "id": "f5mm75onJzcR"
      },
      "source": [
        "# Cargamos la data\n",
        "Para facilitar la carga, usaremos el método [`load_dataset()`](https://seaborn.pydata.org/generated/seaborn.load_dataset.html) de Seaborn para cargar la información de pingüinos y lo mandamos a un [dataframe](https://pandas.pydata.org/docs/reference/api/pandas.DataFrame.html) de pandas.\n",
        "```\n",
        "data = sns.load_dataset('penguins')\n",
        "```\n",
        "\n",
        "Podemos visualizar los 5 primeros registros con el método [`head()`](https://pandas.pydata.org/docs/reference/api/pandas.DataFrame.head.html)\n"
      ]
    },
    {
      "cell_type": "code",
      "execution_count": 30,
      "metadata": {
        "id": "h8Ly9KKkmHDH"
      },
      "outputs": [
        {
          "data": {
            "text/html": [
              "<div>\n",
              "<style scoped>\n",
              "    .dataframe tbody tr th:only-of-type {\n",
              "        vertical-align: middle;\n",
              "    }\n",
              "\n",
              "    .dataframe tbody tr th {\n",
              "        vertical-align: top;\n",
              "    }\n",
              "\n",
              "    .dataframe thead th {\n",
              "        text-align: right;\n",
              "    }\n",
              "</style>\n",
              "<table border=\"1\" class=\"dataframe\">\n",
              "  <thead>\n",
              "    <tr style=\"text-align: right;\">\n",
              "      <th></th>\n",
              "      <th>pclass</th>\n",
              "      <th>sex</th>\n",
              "      <th>age</th>\n",
              "      <th>sibsp</th>\n",
              "      <th>parch</th>\n",
              "      <th>fare</th>\n",
              "      <th>embarked</th>\n",
              "      <th>class</th>\n",
              "      <th>who</th>\n",
              "      <th>adult_male</th>\n",
              "      <th>deck</th>\n",
              "      <th>embark_town</th>\n",
              "      <th>alive</th>\n",
              "      <th>alone</th>\n",
              "    </tr>\n",
              "  </thead>\n",
              "  <tbody>\n",
              "    <tr>\n",
              "      <th>0</th>\n",
              "      <td>3</td>\n",
              "      <td>male</td>\n",
              "      <td>22.0</td>\n",
              "      <td>1</td>\n",
              "      <td>0</td>\n",
              "      <td>7.2500</td>\n",
              "      <td>S</td>\n",
              "      <td>Third</td>\n",
              "      <td>man</td>\n",
              "      <td>True</td>\n",
              "      <td>NaN</td>\n",
              "      <td>Southampton</td>\n",
              "      <td>no</td>\n",
              "      <td>False</td>\n",
              "    </tr>\n",
              "    <tr>\n",
              "      <th>1</th>\n",
              "      <td>1</td>\n",
              "      <td>female</td>\n",
              "      <td>38.0</td>\n",
              "      <td>1</td>\n",
              "      <td>0</td>\n",
              "      <td>71.2833</td>\n",
              "      <td>C</td>\n",
              "      <td>First</td>\n",
              "      <td>woman</td>\n",
              "      <td>False</td>\n",
              "      <td>C</td>\n",
              "      <td>Cherbourg</td>\n",
              "      <td>yes</td>\n",
              "      <td>False</td>\n",
              "    </tr>\n",
              "    <tr>\n",
              "      <th>2</th>\n",
              "      <td>3</td>\n",
              "      <td>female</td>\n",
              "      <td>26.0</td>\n",
              "      <td>0</td>\n",
              "      <td>0</td>\n",
              "      <td>7.9250</td>\n",
              "      <td>S</td>\n",
              "      <td>Third</td>\n",
              "      <td>woman</td>\n",
              "      <td>False</td>\n",
              "      <td>NaN</td>\n",
              "      <td>Southampton</td>\n",
              "      <td>yes</td>\n",
              "      <td>True</td>\n",
              "    </tr>\n",
              "    <tr>\n",
              "      <th>3</th>\n",
              "      <td>1</td>\n",
              "      <td>female</td>\n",
              "      <td>35.0</td>\n",
              "      <td>1</td>\n",
              "      <td>0</td>\n",
              "      <td>53.1000</td>\n",
              "      <td>S</td>\n",
              "      <td>First</td>\n",
              "      <td>woman</td>\n",
              "      <td>False</td>\n",
              "      <td>C</td>\n",
              "      <td>Southampton</td>\n",
              "      <td>yes</td>\n",
              "      <td>False</td>\n",
              "    </tr>\n",
              "    <tr>\n",
              "      <th>4</th>\n",
              "      <td>3</td>\n",
              "      <td>male</td>\n",
              "      <td>35.0</td>\n",
              "      <td>0</td>\n",
              "      <td>0</td>\n",
              "      <td>8.0500</td>\n",
              "      <td>S</td>\n",
              "      <td>Third</td>\n",
              "      <td>man</td>\n",
              "      <td>True</td>\n",
              "      <td>NaN</td>\n",
              "      <td>Southampton</td>\n",
              "      <td>no</td>\n",
              "      <td>True</td>\n",
              "    </tr>\n",
              "  </tbody>\n",
              "</table>\n",
              "</div>"
            ],
            "text/plain": [
              "   pclass     sex   age  sibsp  parch     fare embarked  class    who  \\\n",
              "0       3    male  22.0      1      0   7.2500        S  Third    man   \n",
              "1       1  female  38.0      1      0  71.2833        C  First  woman   \n",
              "2       3  female  26.0      0      0   7.9250        S  Third  woman   \n",
              "3       1  female  35.0      1      0  53.1000        S  First  woman   \n",
              "4       3    male  35.0      0      0   8.0500        S  Third    man   \n",
              "\n",
              "   adult_male deck  embark_town alive  alone  \n",
              "0        True  NaN  Southampton    no  False  \n",
              "1       False    C    Cherbourg   yes  False  \n",
              "2       False  NaN  Southampton   yes   True  \n",
              "3       False    C  Southampton   yes  False  \n",
              "4        True  NaN  Southampton    no   True  "
            ]
          },
          "execution_count": 30,
          "metadata": {},
          "output_type": "execute_result"
        }
      ],
      "source": [
        "# data = sns.load_dataset('penguins')\n",
        "# data.head()\n",
        "\n",
        "data = sns.load_dataset('titanic')\n",
        "data.drop(columns='survived', inplace=True)\n",
        "data.head()"
      ]
    },
    {
      "cell_type": "markdown",
      "metadata": {
        "id": "NGn1XmUiK5PL"
      },
      "source": [
        "# Dividir la data en train / test\n",
        "Usando el método [`sample()`](https://pandas.pydata.org/docs/reference/api/pandas.DataFrame.sample.html) especificamos una fracción de 80% para entrenamiento y lo restante para la evaluación.\n",
        "\n",
        "\n",
        "```\n",
        "train=data.sample(frac=0.8,random_state=200)\n",
        "test=data.drop(train.index).sample(frac=1.0)\n",
        "```\n",
        "\n",
        "A continuación, separamos las X de las Y por cada uno de los subconjuntos. Podemos usar el método [`drop()`](https://pandas.pydata.org/docs/reference/api/pandas.DataFrame.drop.html) para separar las X y la [selección por columnas](https://pandas.pydata.org/docs/user_guide/dsintro.html#indexing-selection) para las Y.\n",
        "\n",
        "El subconjunto de evaluación no los vamos a usar hasta despues de haber entrenado el modelo y ajustado parámetros.\n"
      ]
    },
    {
      "cell_type": "code",
      "execution_count": 31,
      "metadata": {
        "id": "jhrSpjHimOQW"
      },
      "outputs": [],
      "source": [
        "train = data.sample(frac=0.8, random_state=200)\n",
        "test = data.drop(train.index).sample(frac=1.0, random_state=200)\n",
        "\n",
        "# target = 'species'\n",
        "target = 'alive'\n",
        "\n",
        "y_train = train[target]\n",
        "x_train = train.drop(columns=target)\n",
        "\n",
        "y_test = test[target]\n",
        "x_test = test.drop(columns=target)"
      ]
    },
    {
      "cell_type": "markdown",
      "metadata": {
        "id": "diGQ0e9xMXWT"
      },
      "source": [
        "# Crear un método para categorizar las columnas según el tipo de dato.\n",
        "\n",
        "Crea un método que reciba un DataFrame X que contiene las variables independientes de nuestra data y que retorne lo siguiente:\n",
        "* Lista de columnas con datos binarios\n",
        "* Lista de columnas con datos categóricos\n",
        "* Lista de columnas con datos numéricos\n",
        "\n",
        "Puedes usar el método [`select_dtypes`](https://pandas.pydata.org/docs/reference/api/pandas.DataFrame.select_dtypes.html) para seleccionar aquellas columnas que contienen `int64` y `float64` para los números y `object` para las categóricas. Adicionalmente, si la columna categórica solo contiene 2 valores únicos, podría considerarse binaria. Para ello podemos usar el método [`nunique()`](https://pandas.pydata.org/docs/reference/api/pandas.DataFrame.nunique.html)\n",
        "\n",
        "Con tener información sobre las columnas, podemos determinar qué hacer con cada una de ellas. Esta tarea también se puede hacer manualmente y según lo que el análisis previo haya indicado."
      ]
    },
    {
      "cell_type": "code",
      "execution_count": 32,
      "metadata": {
        "id": "WIiI6Iwsv_eN"
      },
      "outputs": [],
      "source": [
        "def get_columna_por_categoria(X):\n",
        "    es_binario = X.select_dtypes(include=['object']).apply(pd.Series.nunique) == 2\n",
        "    es_numerico = X.select_dtypes(include=['int64','float64']).apply(pd.Series.nunique) > 5\n",
        "\n",
        "    bin_cols = X[es_binario.index[es_binario]].columns\n",
        "    cat_cols = X[es_binario.index[~es_binario]].columns\n",
        "    num_cols = X[es_numerico.index[es_numerico]].columns\n",
        "\n",
        "    return bin_cols, cat_cols, num_cols"
      ]
    },
    {
      "cell_type": "markdown",
      "metadata": {
        "id": "-uusendXWN6_"
      },
      "source": [
        "# Construyendo el pipeline\n",
        "Cuando uno construye un modelo en ML, es necesario aplicar las transformaciones de la data dos veces. Una para el dato de entrenamiento, y el otro para la validación.\n",
        "\n",
        "El [Pipeline](https://scikit-learn.org/stable/modules/generated/sklearn.pipeline.Pipeline.html) en sklearn encadena los pasos de preprocesamiento de tal forma que facilita la ejecución y entender el código.\n",
        "\n",
        "Adicionalmente, podemos usar el [ColumnTransformer](https://scikit-learn.org/stable/modules/generated/sklearn.compose.ColumnTransformer.html) para seleccionar a qué columnas aplicar las transformaciones. Por esto hemos clasificado las columnas según el tipo de dato."
      ]
    },
    {
      "cell_type": "code",
      "execution_count": 33,
      "metadata": {
        "id": "0OOiC_iXvj2o"
      },
      "outputs": [],
      "source": [
        "from sklearn.impute import KNNImputer, SimpleImputer\n",
        "from sklearn.preprocessing import OneHotEncoder, MinMaxScaler, OrdinalEncoder\n",
        "from sklearn.compose import ColumnTransformer\n",
        "from sklearn.pipeline import Pipeline\n",
        "from sklearn.linear_model import LogisticRegression"
      ]
    },
    {
      "cell_type": "code",
      "execution_count": 34,
      "metadata": {
        "id": "Fv1aNma_werx"
      },
      "outputs": [],
      "source": [
        "bin_pipe = Pipeline([\n",
        "    ('imputer', SimpleImputer(strategy='most_frequent')),\n",
        "    ('encode', OrdinalEncoder()),\n",
        "])\n",
        "\n",
        "cat_pipe = Pipeline([\n",
        "    ('imputer', SimpleImputer(strategy='most_frequent')),\n",
        "    ('encode', OneHotEncoder(sparse=False)),\n",
        "])\n",
        "\n",
        "num_pipe = Pipeline([\n",
        "    ('imputer', KNNImputer(n_neighbors=2)),\n",
        "    ('scaler', MinMaxScaler()),\n",
        "])"
      ]
    },
    {
      "cell_type": "code",
      "execution_count": 35,
      "metadata": {},
      "outputs": [],
      "source": [
        "bin_cols, cat_cols, num_cols = get_columna_por_categoria(x_train)"
      ]
    },
    {
      "cell_type": "code",
      "execution_count": 36,
      "metadata": {},
      "outputs": [],
      "source": [
        "preprocesador = ColumnTransformer([\n",
        "    ('bin', bin_pipe, bin_cols),\n",
        "    ('cat', cat_pipe, cat_cols),\n",
        "    ('num', num_pipe, num_cols),\n",
        "])"
      ]
    },
    {
      "cell_type": "markdown",
      "metadata": {
        "id": "3zeMuoeHyjhP"
      },
      "source": [
        "## Instanciar el modelo de ML que entrenaremos\n",
        "En esta etapa podríamos crear varios modelos ML"
      ]
    },
    {
      "cell_type": "code",
      "execution_count": 37,
      "metadata": {
        "id": "OfjOsgVQxPO4"
      },
      "outputs": [],
      "source": [
        "modelo_ml = LogisticRegression()"
      ]
    },
    {
      "cell_type": "markdown",
      "metadata": {
        "id": "9QULkxJFyo_G"
      },
      "source": [
        "Concatenar el modelo a la etapa de preprocesamiento usando Pipeline"
      ]
    },
    {
      "cell_type": "code",
      "execution_count": 38,
      "metadata": {
        "id": "1FH3gANTxG5z"
      },
      "outputs": [],
      "source": [
        "from sklearn.decomposition import PCA\n",
        "\n",
        "pipe = Pipeline([\n",
        "    ('preprocessor', preprocesador),\n",
        "    ('pca', PCA(n_components=0.999)),\n",
        "    ('model', modelo_ml)\n",
        "])"
      ]
    },
    {
      "cell_type": "markdown",
      "metadata": {
        "id": "TNALfWWsyyvq"
      },
      "source": [
        "Entrenamos los transformadores de la data en el preprocesamiento y el modelo de ML usando la data de entrenamiento."
      ]
    },
    {
      "cell_type": "code",
      "execution_count": 39,
      "metadata": {},
      "outputs": [],
      "source": [
        "from sklearn import set_config\n",
        "\n",
        "set_config(display='diagram')"
      ]
    },
    {
      "cell_type": "code",
      "execution_count": 40,
      "metadata": {
        "id": "dK0bR6Fkxj9O"
      },
      "outputs": [
        {
          "data": {
            "text/html": [
              "<style>#sk-container-id-2 {color: black;background-color: white;}#sk-container-id-2 pre{padding: 0;}#sk-container-id-2 div.sk-toggleable {background-color: white;}#sk-container-id-2 label.sk-toggleable__label {cursor: pointer;display: block;width: 100%;margin-bottom: 0;padding: 0.3em;box-sizing: border-box;text-align: center;}#sk-container-id-2 label.sk-toggleable__label-arrow:before {content: \"▸\";float: left;margin-right: 0.25em;color: #696969;}#sk-container-id-2 label.sk-toggleable__label-arrow:hover:before {color: black;}#sk-container-id-2 div.sk-estimator:hover label.sk-toggleable__label-arrow:before {color: black;}#sk-container-id-2 div.sk-toggleable__content {max-height: 0;max-width: 0;overflow: hidden;text-align: left;background-color: #f0f8ff;}#sk-container-id-2 div.sk-toggleable__content pre {margin: 0.2em;color: black;border-radius: 0.25em;background-color: #f0f8ff;}#sk-container-id-2 input.sk-toggleable__control:checked~div.sk-toggleable__content {max-height: 200px;max-width: 100%;overflow: auto;}#sk-container-id-2 input.sk-toggleable__control:checked~label.sk-toggleable__label-arrow:before {content: \"▾\";}#sk-container-id-2 div.sk-estimator input.sk-toggleable__control:checked~label.sk-toggleable__label {background-color: #d4ebff;}#sk-container-id-2 div.sk-label input.sk-toggleable__control:checked~label.sk-toggleable__label {background-color: #d4ebff;}#sk-container-id-2 input.sk-hidden--visually {border: 0;clip: rect(1px 1px 1px 1px);clip: rect(1px, 1px, 1px, 1px);height: 1px;margin: -1px;overflow: hidden;padding: 0;position: absolute;width: 1px;}#sk-container-id-2 div.sk-estimator {font-family: monospace;background-color: #f0f8ff;border: 1px dotted black;border-radius: 0.25em;box-sizing: border-box;margin-bottom: 0.5em;}#sk-container-id-2 div.sk-estimator:hover {background-color: #d4ebff;}#sk-container-id-2 div.sk-parallel-item::after {content: \"\";width: 100%;border-bottom: 1px solid gray;flex-grow: 1;}#sk-container-id-2 div.sk-label:hover label.sk-toggleable__label {background-color: #d4ebff;}#sk-container-id-2 div.sk-serial::before {content: \"\";position: absolute;border-left: 1px solid gray;box-sizing: border-box;top: 0;bottom: 0;left: 50%;z-index: 0;}#sk-container-id-2 div.sk-serial {display: flex;flex-direction: column;align-items: center;background-color: white;padding-right: 0.2em;padding-left: 0.2em;position: relative;}#sk-container-id-2 div.sk-item {position: relative;z-index: 1;}#sk-container-id-2 div.sk-parallel {display: flex;align-items: stretch;justify-content: center;background-color: white;position: relative;}#sk-container-id-2 div.sk-item::before, #sk-container-id-2 div.sk-parallel-item::before {content: \"\";position: absolute;border-left: 1px solid gray;box-sizing: border-box;top: 0;bottom: 0;left: 50%;z-index: -1;}#sk-container-id-2 div.sk-parallel-item {display: flex;flex-direction: column;z-index: 1;position: relative;background-color: white;}#sk-container-id-2 div.sk-parallel-item:first-child::after {align-self: flex-end;width: 50%;}#sk-container-id-2 div.sk-parallel-item:last-child::after {align-self: flex-start;width: 50%;}#sk-container-id-2 div.sk-parallel-item:only-child::after {width: 0;}#sk-container-id-2 div.sk-dashed-wrapped {border: 1px dashed gray;margin: 0 0.4em 0.5em 0.4em;box-sizing: border-box;padding-bottom: 0.4em;background-color: white;}#sk-container-id-2 div.sk-label label {font-family: monospace;font-weight: bold;display: inline-block;line-height: 1.2em;}#sk-container-id-2 div.sk-label-container {text-align: center;}#sk-container-id-2 div.sk-container {/* jupyter's `normalize.less` sets `[hidden] { display: none; }` but bootstrap.min.css set `[hidden] { display: none !important; }` so we also need the `!important` here to be able to override the default hidden behavior on the sphinx rendered scikit-learn.org. See: https://github.com/scikit-learn/scikit-learn/issues/21755 */display: inline-block !important;position: relative;}#sk-container-id-2 div.sk-text-repr-fallback {display: none;}</style><div id=\"sk-container-id-2\" class=\"sk-top-container\"><div class=\"sk-text-repr-fallback\"><pre>Pipeline(steps=[(&#x27;preprocessor&#x27;,\n",
              "                 ColumnTransformer(transformers=[(&#x27;bin&#x27;,\n",
              "                                                  Pipeline(steps=[(&#x27;imputer&#x27;,\n",
              "                                                                   SimpleImputer(strategy=&#x27;most_frequent&#x27;)),\n",
              "                                                                  (&#x27;encode&#x27;,\n",
              "                                                                   OrdinalEncoder())]),\n",
              "                                                  Index([&#x27;sex&#x27;], dtype=&#x27;object&#x27;)),\n",
              "                                                 (&#x27;cat&#x27;,\n",
              "                                                  Pipeline(steps=[(&#x27;imputer&#x27;,\n",
              "                                                                   SimpleImputer(strategy=&#x27;most_frequent&#x27;)),\n",
              "                                                                  (&#x27;encode&#x27;,\n",
              "                                                                   OneHotEncoder(sparse=False))]),\n",
              "                                                  Index([&#x27;embarked&#x27;, &#x27;who&#x27;, &#x27;embark_town&#x27;], dtype=&#x27;object&#x27;)),\n",
              "                                                 (&#x27;num&#x27;,\n",
              "                                                  Pipeline(steps=[(&#x27;imputer&#x27;,\n",
              "                                                                   KNNImputer(n_neighbors=2)),\n",
              "                                                                  (&#x27;scaler&#x27;,\n",
              "                                                                   MinMaxScaler())]),\n",
              "                                                  Index([&#x27;age&#x27;, &#x27;sibsp&#x27;, &#x27;parch&#x27;, &#x27;fare&#x27;], dtype=&#x27;object&#x27;))])),\n",
              "                (&#x27;pca&#x27;, PCA(n_components=0.999)),\n",
              "                (&#x27;model&#x27;, LogisticRegression())])</pre><b>In a Jupyter environment, please rerun this cell to show the HTML representation or trust the notebook. <br />On GitHub, the HTML representation is unable to render, please try loading this page with nbviewer.org.</b></div><div class=\"sk-container\" hidden><div class=\"sk-item sk-dashed-wrapped\"><div class=\"sk-label-container\"><div class=\"sk-label sk-toggleable\"><input class=\"sk-toggleable__control sk-hidden--visually\" id=\"sk-estimator-id-14\" type=\"checkbox\" ><label for=\"sk-estimator-id-14\" class=\"sk-toggleable__label sk-toggleable__label-arrow\">Pipeline</label><div class=\"sk-toggleable__content\"><pre>Pipeline(steps=[(&#x27;preprocessor&#x27;,\n",
              "                 ColumnTransformer(transformers=[(&#x27;bin&#x27;,\n",
              "                                                  Pipeline(steps=[(&#x27;imputer&#x27;,\n",
              "                                                                   SimpleImputer(strategy=&#x27;most_frequent&#x27;)),\n",
              "                                                                  (&#x27;encode&#x27;,\n",
              "                                                                   OrdinalEncoder())]),\n",
              "                                                  Index([&#x27;sex&#x27;], dtype=&#x27;object&#x27;)),\n",
              "                                                 (&#x27;cat&#x27;,\n",
              "                                                  Pipeline(steps=[(&#x27;imputer&#x27;,\n",
              "                                                                   SimpleImputer(strategy=&#x27;most_frequent&#x27;)),\n",
              "                                                                  (&#x27;encode&#x27;,\n",
              "                                                                   OneHotEncoder(sparse=False))]),\n",
              "                                                  Index([&#x27;embarked&#x27;, &#x27;who&#x27;, &#x27;embark_town&#x27;], dtype=&#x27;object&#x27;)),\n",
              "                                                 (&#x27;num&#x27;,\n",
              "                                                  Pipeline(steps=[(&#x27;imputer&#x27;,\n",
              "                                                                   KNNImputer(n_neighbors=2)),\n",
              "                                                                  (&#x27;scaler&#x27;,\n",
              "                                                                   MinMaxScaler())]),\n",
              "                                                  Index([&#x27;age&#x27;, &#x27;sibsp&#x27;, &#x27;parch&#x27;, &#x27;fare&#x27;], dtype=&#x27;object&#x27;))])),\n",
              "                (&#x27;pca&#x27;, PCA(n_components=0.999)),\n",
              "                (&#x27;model&#x27;, LogisticRegression())])</pre></div></div></div><div class=\"sk-serial\"><div class=\"sk-item sk-dashed-wrapped\"><div class=\"sk-label-container\"><div class=\"sk-label sk-toggleable\"><input class=\"sk-toggleable__control sk-hidden--visually\" id=\"sk-estimator-id-15\" type=\"checkbox\" ><label for=\"sk-estimator-id-15\" class=\"sk-toggleable__label sk-toggleable__label-arrow\">preprocessor: ColumnTransformer</label><div class=\"sk-toggleable__content\"><pre>ColumnTransformer(transformers=[(&#x27;bin&#x27;,\n",
              "                                 Pipeline(steps=[(&#x27;imputer&#x27;,\n",
              "                                                  SimpleImputer(strategy=&#x27;most_frequent&#x27;)),\n",
              "                                                 (&#x27;encode&#x27;, OrdinalEncoder())]),\n",
              "                                 Index([&#x27;sex&#x27;], dtype=&#x27;object&#x27;)),\n",
              "                                (&#x27;cat&#x27;,\n",
              "                                 Pipeline(steps=[(&#x27;imputer&#x27;,\n",
              "                                                  SimpleImputer(strategy=&#x27;most_frequent&#x27;)),\n",
              "                                                 (&#x27;encode&#x27;,\n",
              "                                                  OneHotEncoder(sparse=False))]),\n",
              "                                 Index([&#x27;embarked&#x27;, &#x27;who&#x27;, &#x27;embark_town&#x27;], dtype=&#x27;object&#x27;)),\n",
              "                                (&#x27;num&#x27;,\n",
              "                                 Pipeline(steps=[(&#x27;imputer&#x27;,\n",
              "                                                  KNNImputer(n_neighbors=2)),\n",
              "                                                 (&#x27;scaler&#x27;, MinMaxScaler())]),\n",
              "                                 Index([&#x27;age&#x27;, &#x27;sibsp&#x27;, &#x27;parch&#x27;, &#x27;fare&#x27;], dtype=&#x27;object&#x27;))])</pre></div></div></div><div class=\"sk-parallel\"><div class=\"sk-parallel-item\"><div class=\"sk-item\"><div class=\"sk-label-container\"><div class=\"sk-label sk-toggleable\"><input class=\"sk-toggleable__control sk-hidden--visually\" id=\"sk-estimator-id-16\" type=\"checkbox\" ><label for=\"sk-estimator-id-16\" class=\"sk-toggleable__label sk-toggleable__label-arrow\">bin</label><div class=\"sk-toggleable__content\"><pre>Index([&#x27;sex&#x27;], dtype=&#x27;object&#x27;)</pre></div></div></div><div class=\"sk-serial\"><div class=\"sk-item\"><div class=\"sk-serial\"><div class=\"sk-item\"><div class=\"sk-estimator sk-toggleable\"><input class=\"sk-toggleable__control sk-hidden--visually\" id=\"sk-estimator-id-17\" type=\"checkbox\" ><label for=\"sk-estimator-id-17\" class=\"sk-toggleable__label sk-toggleable__label-arrow\">SimpleImputer</label><div class=\"sk-toggleable__content\"><pre>SimpleImputer(strategy=&#x27;most_frequent&#x27;)</pre></div></div></div><div class=\"sk-item\"><div class=\"sk-estimator sk-toggleable\"><input class=\"sk-toggleable__control sk-hidden--visually\" id=\"sk-estimator-id-18\" type=\"checkbox\" ><label for=\"sk-estimator-id-18\" class=\"sk-toggleable__label sk-toggleable__label-arrow\">OrdinalEncoder</label><div class=\"sk-toggleable__content\"><pre>OrdinalEncoder()</pre></div></div></div></div></div></div></div></div><div class=\"sk-parallel-item\"><div class=\"sk-item\"><div class=\"sk-label-container\"><div class=\"sk-label sk-toggleable\"><input class=\"sk-toggleable__control sk-hidden--visually\" id=\"sk-estimator-id-19\" type=\"checkbox\" ><label for=\"sk-estimator-id-19\" class=\"sk-toggleable__label sk-toggleable__label-arrow\">cat</label><div class=\"sk-toggleable__content\"><pre>Index([&#x27;embarked&#x27;, &#x27;who&#x27;, &#x27;embark_town&#x27;], dtype=&#x27;object&#x27;)</pre></div></div></div><div class=\"sk-serial\"><div class=\"sk-item\"><div class=\"sk-serial\"><div class=\"sk-item\"><div class=\"sk-estimator sk-toggleable\"><input class=\"sk-toggleable__control sk-hidden--visually\" id=\"sk-estimator-id-20\" type=\"checkbox\" ><label for=\"sk-estimator-id-20\" class=\"sk-toggleable__label sk-toggleable__label-arrow\">SimpleImputer</label><div class=\"sk-toggleable__content\"><pre>SimpleImputer(strategy=&#x27;most_frequent&#x27;)</pre></div></div></div><div class=\"sk-item\"><div class=\"sk-estimator sk-toggleable\"><input class=\"sk-toggleable__control sk-hidden--visually\" id=\"sk-estimator-id-21\" type=\"checkbox\" ><label for=\"sk-estimator-id-21\" class=\"sk-toggleable__label sk-toggleable__label-arrow\">OneHotEncoder</label><div class=\"sk-toggleable__content\"><pre>OneHotEncoder(sparse=False)</pre></div></div></div></div></div></div></div></div><div class=\"sk-parallel-item\"><div class=\"sk-item\"><div class=\"sk-label-container\"><div class=\"sk-label sk-toggleable\"><input class=\"sk-toggleable__control sk-hidden--visually\" id=\"sk-estimator-id-22\" type=\"checkbox\" ><label for=\"sk-estimator-id-22\" class=\"sk-toggleable__label sk-toggleable__label-arrow\">num</label><div class=\"sk-toggleable__content\"><pre>Index([&#x27;age&#x27;, &#x27;sibsp&#x27;, &#x27;parch&#x27;, &#x27;fare&#x27;], dtype=&#x27;object&#x27;)</pre></div></div></div><div class=\"sk-serial\"><div class=\"sk-item\"><div class=\"sk-serial\"><div class=\"sk-item\"><div class=\"sk-estimator sk-toggleable\"><input class=\"sk-toggleable__control sk-hidden--visually\" id=\"sk-estimator-id-23\" type=\"checkbox\" ><label for=\"sk-estimator-id-23\" class=\"sk-toggleable__label sk-toggleable__label-arrow\">KNNImputer</label><div class=\"sk-toggleable__content\"><pre>KNNImputer(n_neighbors=2)</pre></div></div></div><div class=\"sk-item\"><div class=\"sk-estimator sk-toggleable\"><input class=\"sk-toggleable__control sk-hidden--visually\" id=\"sk-estimator-id-24\" type=\"checkbox\" ><label for=\"sk-estimator-id-24\" class=\"sk-toggleable__label sk-toggleable__label-arrow\">MinMaxScaler</label><div class=\"sk-toggleable__content\"><pre>MinMaxScaler()</pre></div></div></div></div></div></div></div></div></div></div><div class=\"sk-item\"><div class=\"sk-estimator sk-toggleable\"><input class=\"sk-toggleable__control sk-hidden--visually\" id=\"sk-estimator-id-25\" type=\"checkbox\" ><label for=\"sk-estimator-id-25\" class=\"sk-toggleable__label sk-toggleable__label-arrow\">PCA</label><div class=\"sk-toggleable__content\"><pre>PCA(n_components=0.999)</pre></div></div></div><div class=\"sk-item\"><div class=\"sk-estimator sk-toggleable\"><input class=\"sk-toggleable__control sk-hidden--visually\" id=\"sk-estimator-id-26\" type=\"checkbox\" ><label for=\"sk-estimator-id-26\" class=\"sk-toggleable__label sk-toggleable__label-arrow\">LogisticRegression</label><div class=\"sk-toggleable__content\"><pre>LogisticRegression()</pre></div></div></div></div></div></div></div>"
            ],
            "text/plain": [
              "Pipeline(steps=[('preprocessor',\n",
              "                 ColumnTransformer(transformers=[('bin',\n",
              "                                                  Pipeline(steps=[('imputer',\n",
              "                                                                   SimpleImputer(strategy='most_frequent')),\n",
              "                                                                  ('encode',\n",
              "                                                                   OrdinalEncoder())]),\n",
              "                                                  Index(['sex'], dtype='object')),\n",
              "                                                 ('cat',\n",
              "                                                  Pipeline(steps=[('imputer',\n",
              "                                                                   SimpleImputer(strategy='most_frequent')),\n",
              "                                                                  ('encode',\n",
              "                                                                   OneHotEncoder(sparse=False))]),\n",
              "                                                  Index(['embarked', 'who', 'embark_town'], dtype='object')),\n",
              "                                                 ('num',\n",
              "                                                  Pipeline(steps=[('imputer',\n",
              "                                                                   KNNImputer(n_neighbors=2)),\n",
              "                                                                  ('scaler',\n",
              "                                                                   MinMaxScaler())]),\n",
              "                                                  Index(['age', 'sibsp', 'parch', 'fare'], dtype='object'))])),\n",
              "                ('pca', PCA(n_components=0.999)),\n",
              "                ('model', LogisticRegression())])"
            ]
          },
          "execution_count": 40,
          "metadata": {},
          "output_type": "execute_result"
        }
      ],
      "source": [
        "pipe.fit(x_train, y_train)"
      ]
    },
    {
      "cell_type": "markdown",
      "metadata": {
        "id": "W5LDqk5_y5yR"
      },
      "source": [
        "Obtenemos el puntaje del modelo, tanto de entrenamiento como de la validación.\n",
        "\n",
        "Al aplicar el score al x_test, la data original para por el proceso de transformación del preprocesamiento y luego la etapa de predicción y luego lo compara con el y_test para obtener una métrica.\n",
        "\n",
        "Al predecir, realiza los mismos pasos, pero no compara con un *y* de respuesta"
      ]
    },
    {
      "cell_type": "code",
      "execution_count": 41,
      "metadata": {
        "id": "42R6Uglu1k1e"
      },
      "outputs": [
        {
          "name": "stdout",
          "output_type": "stream",
          "text": [
            "0.82328190743338\n",
            "0.797752808988764\n"
          ]
        }
      ],
      "source": [
        "print(pipe.score(x_train, y_train))\n",
        "print(pipe.score(x_test, y_test))"
      ]
    },
    {
      "cell_type": "code",
      "execution_count": 42,
      "metadata": {},
      "outputs": [],
      "source": [
        "from sklearn.ensemble import RandomForestClassifier\n",
        "\n",
        "modelo = RandomForestClassifier()"
      ]
    },
    {
      "cell_type": "code",
      "execution_count": 43,
      "metadata": {},
      "outputs": [
        {
          "name": "stdout",
          "output_type": "stream",
          "text": [
            "0.9831697054698457\n",
            "0.7865168539325843\n"
          ]
        }
      ],
      "source": [
        "modelo = Pipeline([\n",
        "    ('preprocessor', preprocesador),\n",
        "    ('model', modelo)\n",
        "])\n",
        "\n",
        "modelo.fit(x_train, y_train)\n",
        "\n",
        "print(modelo.score(x_train, y_train))\n",
        "print(modelo.score(x_test, y_test))"
      ]
    },
    {
      "cell_type": "code",
      "execution_count": 44,
      "metadata": {},
      "outputs": [],
      "source": [
        "valores = {\n",
        "    'island': ['Dream'],\n",
        "    'sex': ['Female'],\n",
        "    'bill_length_mm': [36.2],\n",
        "    'bill_depth_mm': [17.3],\n",
        "    'flipper_length_mm': [187.0],\n",
        "    'body_mass_g': [3300.0],\n",
        "}\n",
        "\n",
        "valores = {\n",
        "    'pclass': [1],\n",
        "    'sex': ['female'],\n",
        "    'age': [22],\n",
        "    'sibsp': [1],\n",
        "    'parch': [1],\n",
        "    'fare': [67.1],\n",
        "    'embarked': ['C'],\n",
        "    'class': ['Second'],\n",
        "    'who': ['man'],\n",
        "    'adult_male': [False],\n",
        "    'deck': ['C'],\n",
        "    'embark_town': ['Cherbourg'],\n",
        "    'alone': [True],\n",
        "}\n",
        "\n",
        "demo = pd.DataFrame.from_dict(valores)"
      ]
    },
    {
      "cell_type": "code",
      "execution_count": 48,
      "metadata": {},
      "outputs": [
        {
          "data": {
            "text/plain": [
              "array(['yes'], dtype=object)"
            ]
          },
          "execution_count": 48,
          "metadata": {},
          "output_type": "execute_result"
        }
      ],
      "source": [
        "modelo.predict(demo)"
      ]
    }
  ],
  "metadata": {
    "colab": {
      "collapsed_sections": [],
      "provenance": []
    },
    "kernelspec": {
      "display_name": "Python 3.10.8 ('.venv': venv)",
      "language": "python",
      "name": "python3"
    },
    "language_info": {
      "codemirror_mode": {
        "name": "ipython",
        "version": 3
      },
      "file_extension": ".py",
      "mimetype": "text/x-python",
      "name": "python",
      "nbconvert_exporter": "python",
      "pygments_lexer": "ipython3",
      "version": "3.10.8"
    },
    "vscode": {
      "interpreter": {
        "hash": "cd2d4b7167b6db956dbc56f3d3932a35a576ff6c1f35bf63ec7b930af0df862c"
      }
    }
  },
  "nbformat": 4,
  "nbformat_minor": 0
}
