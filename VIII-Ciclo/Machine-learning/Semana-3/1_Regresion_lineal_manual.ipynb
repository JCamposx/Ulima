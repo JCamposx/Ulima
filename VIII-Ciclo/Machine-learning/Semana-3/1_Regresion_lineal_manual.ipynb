{
 "cells": [
  {
   "cell_type": "markdown",
   "metadata": {},
   "source": [
    "# Librerías"
   ]
  },
  {
   "cell_type": "code",
   "execution_count": 1,
   "metadata": {},
   "outputs": [],
   "source": [
    "import numpy as np\n",
    "import pandas as pd\n",
    "import matplotlib.pyplot as plt"
   ]
  },
  {
   "cell_type": "markdown",
   "metadata": {},
   "source": [
    "# Carga de datos"
   ]
  },
  {
   "cell_type": "code",
   "execution_count": 2,
   "metadata": {},
   "outputs": [
    {
     "data": {
      "text/html": [
       "<div>\n",
       "<style scoped>\n",
       "    .dataframe tbody tr th:only-of-type {\n",
       "        vertical-align: middle;\n",
       "    }\n",
       "\n",
       "    .dataframe tbody tr th {\n",
       "        vertical-align: top;\n",
       "    }\n",
       "\n",
       "    .dataframe thead th {\n",
       "        text-align: right;\n",
       "    }\n",
       "</style>\n",
       "<table border=\"1\" class=\"dataframe\">\n",
       "  <thead>\n",
       "    <tr style=\"text-align: right;\">\n",
       "      <th></th>\n",
       "      <th>X1</th>\n",
       "      <th>Y</th>\n",
       "    </tr>\n",
       "  </thead>\n",
       "  <tbody>\n",
       "    <tr>\n",
       "      <th>0</th>\n",
       "      <td>-0.533942</td>\n",
       "      <td>-240.516423</td>\n",
       "    </tr>\n",
       "    <tr>\n",
       "      <th>1</th>\n",
       "      <td>-0.343545</td>\n",
       "      <td>-56.415581</td>\n",
       "    </tr>\n",
       "    <tr>\n",
       "      <th>2</th>\n",
       "      <td>0.232700</td>\n",
       "      <td>141.891557</td>\n",
       "    </tr>\n",
       "    <tr>\n",
       "      <th>3</th>\n",
       "      <td>1.030887</td>\n",
       "      <td>-74.340292</td>\n",
       "    </tr>\n",
       "    <tr>\n",
       "      <th>4</th>\n",
       "      <td>-0.633679</td>\n",
       "      <td>20.184212</td>\n",
       "    </tr>\n",
       "    <tr>\n",
       "      <th>...</th>\n",
       "      <td>...</td>\n",
       "      <td>...</td>\n",
       "    </tr>\n",
       "    <tr>\n",
       "      <th>95</th>\n",
       "      <td>-1.578324</td>\n",
       "      <td>-201.718866</td>\n",
       "    </tr>\n",
       "    <tr>\n",
       "      <th>96</th>\n",
       "      <td>0.195961</td>\n",
       "      <td>129.159082</td>\n",
       "    </tr>\n",
       "    <tr>\n",
       "      <th>97</th>\n",
       "      <td>-0.888032</td>\n",
       "      <td>-134.291535</td>\n",
       "    </tr>\n",
       "    <tr>\n",
       "      <th>98</th>\n",
       "      <td>0.676064</td>\n",
       "      <td>113.968823</td>\n",
       "    </tr>\n",
       "    <tr>\n",
       "      <th>99</th>\n",
       "      <td>-3.175075</td>\n",
       "      <td>-229.845791</td>\n",
       "    </tr>\n",
       "  </tbody>\n",
       "</table>\n",
       "<p>100 rows × 2 columns</p>\n",
       "</div>"
      ],
      "text/plain": [
       "          X1           Y\n",
       "0  -0.533942 -240.516423\n",
       "1  -0.343545  -56.415581\n",
       "2   0.232700  141.891557\n",
       "3   1.030887  -74.340292\n",
       "4  -0.633679   20.184212\n",
       "..       ...         ...\n",
       "95 -1.578324 -201.718866\n",
       "96  0.195961  129.159082\n",
       "97 -0.888032 -134.291535\n",
       "98  0.676064  113.968823\n",
       "99 -3.175075 -229.845791\n",
       "\n",
       "[100 rows x 2 columns]"
      ]
     },
     "execution_count": 2,
     "metadata": {},
     "output_type": "execute_result"
    }
   ],
   "source": [
    "data = pd.read_csv('./regresion 1v.csv')\n",
    "data"
   ]
  },
  {
   "cell_type": "markdown",
   "metadata": {},
   "source": [
    "# Asignación de variables"
   ]
  },
  {
   "cell_type": "code",
   "execution_count": 3,
   "metadata": {},
   "outputs": [],
   "source": [
    "X = data.X1\n",
    "Y = data.Y"
   ]
  },
  {
   "cell_type": "code",
   "execution_count": 4,
   "metadata": {},
   "outputs": [],
   "source": [
    "# La predicción es\n",
    "# Y = aX + b\n",
    "\n",
    "# a y b son incognitas\n",
    "a = 0\n",
    "b = 0\n",
    "\n",
    "learning_rate = 0.1\n",
    "\n",
    "# Como la regresión lineal es un algoritmo iterativo, hay que definir la\n",
    "# cantidad de iteracione que se harán\n",
    "iteraciones = 100\n",
    "\n",
    "# Como vamos a hacer un Gradient Descent, necesitamos saber cuántos elementos se\n",
    "# tienen, la cantidad total de data\n",
    "items = len(X)\n",
    "\n",
    "# Historial de los coeficientes en cada iteración\n",
    "hist_a = []\n",
    "hist_b = []\n",
    "hist_error = []"
   ]
  },
  {
   "cell_type": "markdown",
   "metadata": {},
   "source": [
    "# Algoritmo de Gradient Descent"
   ]
  },
  {
   "cell_type": "code",
   "execution_count": 5,
   "metadata": {},
   "outputs": [
    {
     "name": "stdout",
     "output_type": "stream",
     "text": [
      "97.80208733898684 17.941113564121178\n"
     ]
    }
   ],
   "source": [
    "for i in range(iteraciones):\n",
    "    # Calculamos la predicción\n",
    "    Y_prediccion = (a * X) + b\n",
    "\n",
    "    # Calculamos el residual, el error, qué tanto se ha equivocado el algoritmo\n",
    "    error = sum((Y_prediccion - Y) ** 2)/items\n",
    "    # Y_prediccion - Y => Lo que la maquina predijo - lo que realmente era\n",
    "    # Al cuadrado porque, si no, los positivos y negativos se cancelan\n",
    "    # Como el resultado es un vector (un valor predicho y uno real), hay que\n",
    "    # tener un promedio, por eso lo sumamos y lo dividimos entre la cantidad\n",
    "    # total de items\n",
    "\n",
    "    # Calculamos la derivada parcial de cada uno de los coeficientes\n",
    "    d_a = sum(X * (Y_prediccion - Y))/items\n",
    "    d_b = sum(Y_prediccion - Y)/items\n",
    "    # Como el resultado es un vector (un valor predicho y uno real), hay que\n",
    "    # tener un promedio, por eso lo sumamos y lo dividimos entre la cantidad\n",
    "    # total de items\n",
    "\n",
    "    # Calculamos en nuevo valor de los coeficientes\n",
    "    a = a - (learning_rate * d_a)\n",
    "    b = b - (learning_rate * d_b)\n",
    "\n",
    "    # Actualizamos el historial de los coeficientes\n",
    "    hist_a.append(a)\n",
    "    hist_b.append(b)\n",
    "    hist_error.append(error)\n",
    "\n",
    "print(a, b)"
   ]
  },
  {
   "cell_type": "code",
   "execution_count": 6,
   "metadata": {},
   "outputs": [
    {
     "data": {
      "text/plain": [
       "[<matplotlib.lines.Line2D at 0x7fad27ab1330>]"
      ]
     },
     "execution_count": 6,
     "metadata": {},
     "output_type": "execute_result"
    },
    {
     "data": {
      "image/png": "[encoded data removed]",
      "text/plain": [
       "<Figure size 640x480 with 1 Axes>"
      ]
     },
     "metadata": {},
     "output_type": "display_data"
    }
   ],
   "source": [
    "# Graficamos los resultados\n",
    "fun = lambda x: (a * x) + b\n",
    "\n",
    "Y_prediccion = fun(X)\n",
    "\n",
    "plt.figure()\n",
    "\n",
    "# La data\n",
    "# Puntos azules\n",
    "plt.plot(X, Y, 'bo')\n",
    "\n",
    "# La predicción\n",
    "# Línea roja\n",
    "plt.plot(X, Y_prediccion, 'r-')"
   ]
  },
  {
   "cell_type": "code",
   "execution_count": 7,
   "metadata": {},
   "outputs": [
    {
     "data": {
      "text/plain": [
       "[<matplotlib.lines.Line2D at 0x7fad2598e770>]"
      ]
     },
     "execution_count": 7,
     "metadata": {},
     "output_type": "execute_result"
    },
    {
     "data": {
      "image/png": "[encoded data removed]",
      "text/plain": [
       "<Figure size 640x480 with 1 Axes>"
      ]
     },
     "metadata": {},
     "output_type": "display_data"
    }
   ],
   "source": [
    "# Graficamos el historial del error a lo largo del algoritmo\n",
    "plt.plot(np.linspace(1, iteraciones, iteraciones), hist_error)"
   ]
  },
  {
   "cell_type": "markdown",
   "metadata": {},
   "source": [
    "Si jugamos con los valores del learning rate y las iteraciones, comprobaremos que:\n",
    "* Con un learning rate bajo, el algoritmo tarda más tiempo en aprender\n",
    "(necesita más iteraciones).\n",
    "* Con un learning rate alto, el algoritmo aprende más rápido (necesita menos\n",
    "iteraciones), pero hay que tener cuidado porque si es demasiado alto, es posible\n",
    "que directamente el algoritmo no sea capaz de aprender nada."
   ]
  }
 ],
 "metadata": {
  "kernelspec": {
   "display_name": "Python 3.10.6 ('.venv': venv)",
   "language": "python",
   "name": "python3"
  },
  "language_info": {
   "codemirror_mode": {
    "name": "ipython",
    "version": 3
   },
   "file_extension": ".py",
   "mimetype": "text/x-python",
   "name": "python",
   "nbconvert_exporter": "python",
   "pygments_lexer": "ipython3",
   "version": "3.10.7"
  },
  "orig_nbformat": 4,
  "vscode": {
   "interpreter": {
    "hash": "cd2d4b7167b6db956dbc56f3d3932a35a576ff6c1f35bf63ec7b930af0df862c"
   }
  }
 },
 "nbformat": 4,
 "nbformat_minor": 2
}
