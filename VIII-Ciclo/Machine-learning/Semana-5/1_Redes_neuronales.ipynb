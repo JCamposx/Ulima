{
  "cells": [
    {
      "cell_type": "markdown",
      "metadata": {
        "id": "UkSNKAkiaLXB"
      },
      "source": [
        "Importamos Librerias"
      ]
    },
    {
      "cell_type": "code",
      "execution_count": 130,
      "metadata": {
        "id": "Rvw_ob1kvkL6"
      },
      "outputs": [],
      "source": [
        "import pandas as pd\n",
        "import numpy as np\n",
        "import matplotlib.pyplot as plt\n",
        "import tensorflow as tf"
      ]
    },
    {
      "cell_type": "markdown",
      "metadata": {
        "id": "_z0cZEfvaOLz"
      },
      "source": [
        "Cargamos la data de entrenamiento y de test,\n",
        "y separamos la x de la y"
      ]
    },
    {
      "cell_type": "code",
      "execution_count": 132,
      "metadata": {
        "id": "VnPwLob9_7_h"
      },
      "outputs": [],
      "source": [
        "data_train = pd.read_csv('/content/sample_data/mnist_train_small.csv',header=None)\n",
        "data_test = pd.read_csv('/content/sample_data/mnist_test.csv',header=None)\n",
        "\n",
        "x_train = data_train.drop(columns=0)\n",
        "y_train = data_train[0]\n",
        "\n",
        "x_test = data_test.drop(columns=0)\n",
        "y_test = data_test[0]"
      ]
    },
    {
      "cell_type": "markdown",
      "metadata": {
        "id": "JGmsNp1AaX1p"
      },
      "source": [
        "Estandarizamos los valores de la x a un rango de 0 a 1"
      ]
    },
    {
      "cell_type": "code",
      "execution_count": 133,
      "metadata": {
        "id": "PZFABX4WBgdl"
      },
      "outputs": [],
      "source": [
        "x_train = x_train / 255.0\n",
        "x_test = x_test / 255.0"
      ]
    },
    {
      "cell_type": "markdown",
      "metadata": {
        "id": "Zi9irVrpacel"
      },
      "source": [
        "Creamos el modelo de red neuronal.\n",
        "\n",
        "La capa de entrada es una que tiene 784 neuronas. Una por cada pixel de la imagen de 28*28\n",
        "\n",
        "La segunda y tercera capa (capas ocultas) tienen 16 neuronas cada una y la función de activación sera la sigmoide.\n",
        "\n",
        "Finalmente la capa de salida es una de 10 neuronas, una por cada dígito"
      ]
    },
    {
      "cell_type": "code",
      "execution_count": 134,
      "metadata": {
        "id": "v72sBm59BpFU"
      },
      "outputs": [],
      "source": [
        "modelo = tf.keras.Sequential([\n",
        "    tf.keras.layers.Input(shape=(784)),\n",
        "    tf.keras.layers.Dense(16,activation='sigmoid'),\n",
        "    tf.keras.layers.Dense(16,activation='sigmoid'),\n",
        "    tf.keras.layers.Dense(10)\n",
        "])"
      ]
    },
    {
      "cell_type": "markdown",
      "metadata": {
        "id": "pbboJo93g82g"
      },
      "source": [
        "Al compilar el modelo debemos especificar el optimizador (cómo es que de manera iterativa se buscarán los coeficientes y bias),\n",
        "la función de costo (como es clasificación se emplea el CrossEntropy)\n",
        "y las métricas para que nosotros podamos interpretar si la red es buena o no."
      ]
    },
    {
      "cell_type": "code",
      "execution_count": 135,
      "metadata": {
        "id": "86eSy4faDIz2"
      },
      "outputs": [],
      "source": [
        "modelo.compile(optimizer='sgd',\n",
        "               loss=tf.keras.losses.SparseCategoricalCrossentropy(from_logits=True),\n",
        "               metrics=['accuracy'])"
      ]
    },
    {
      "cell_type": "markdown",
      "metadata": {
        "id": "n7tlJkMfhRNG"
      },
      "source": [
        "El resumen nos indicará la cantidad de parámetros que se entrenarán y la arquitectura de la red que hemos creado."
      ]
    },
    {
      "cell_type": "code",
      "execution_count": null,
      "metadata": {
        "id": "Y53s7qTiDz_t"
      },
      "outputs": [],
      "source": [
        "modelo.summary()"
      ]
    },
    {
      "cell_type": "markdown",
      "metadata": {
        "id": "uy_qIWOvhaB2"
      },
      "source": [
        "Definimos un número de iteraciones, y entrenamos el modelo guardando el historico de los valores del entrenamiento y validación para determinar si está haciendo overfitting, o no, entre otras cosas más."
      ]
    },
    {
      "cell_type": "code",
      "execution_count": null,
      "metadata": {
        "id": "Mprh-o2mFGXh"
      },
      "outputs": [],
      "source": [
        "epoch = 20\n",
        "historial = modelo.fit(x_train,y_train,\n",
        "                       validation_data=(x_test,y_test),\n",
        "                       epochs=epoch)"
      ]
    },
    {
      "cell_type": "markdown",
      "metadata": {
        "id": "XaEgj_7zhquL"
      },
      "source": [
        "Graficamos tanto el valor del accuracy como de la función de pérdida. Train y Test"
      ]
    },
    {
      "cell_type": "code",
      "execution_count": null,
      "metadata": {
        "id": "-exycjZeMC9W"
      },
      "outputs": [],
      "source": [
        "acc = historial.history['accuracy']\n",
        "val_acc = historial.history['val_accuracy']\n",
        "loss = historial.history['loss']\n",
        "val_loss = historial.history['val_loss']\n",
        "\n",
        "plt.plot(range(epoch),acc,label='Entrenamiento')\n",
        "plt.plot(range(epoch),val_acc,label='Validacion')\n",
        "plt.legend(loc='lower right')"
      ]
    },
    {
      "cell_type": "code",
      "execution_count": null,
      "metadata": {
        "id": "G_WiEyoVOgfl"
      },
      "outputs": [],
      "source": [
        "plt.plot(range(epoch),loss,label='Entrenamiento')\n",
        "plt.plot(range(epoch),val_loss,label='Validacion')\n",
        "plt.legend(loc='upper right')"
      ]
    },
    {
      "cell_type": "markdown",
      "metadata": {
        "id": "yqEj3OCth0qM"
      },
      "source": [
        "Con el método predict realizamos predicciones (feed-forward) y guardamos el resultado en una lista.\n",
        "Como el resultado de esta predicción son los 10 valores de las neuronas, debemos capturar el máximo valor para identificar el dígito que la red cree que es.\n",
        "\n",
        "Adicionalmente, si queremos interpretar el resultado de las 10 neuronas como qué tan seguro está la red de que es un dígito determinado, podemos agregar la capa Softmax."
      ]
    },
    {
      "cell_type": "code",
      "execution_count": 87,
      "metadata": {
        "id": "xSBl5Nu_Ox-8"
      },
      "outputs": [],
      "source": [
        "y_pred = modelo.predict(x_test)\n",
        "modelo_probabilidad = tf.keras.Sequential([modelo,\n",
        "                                           tf.keras.layers.Softmax()])\n",
        "y_pred_proba = modelo_probabilidad.predict(x_test)"
      ]
    },
    {
      "cell_type": "markdown",
      "metadata": {
        "id": "MXKqfkOSiSwh"
      },
      "source": [
        "Se muestra ejemplos de predicciones"
      ]
    },
    {
      "cell_type": "code",
      "execution_count": null,
      "metadata": {
        "id": "VdnTTSCVRWCm"
      },
      "outputs": [],
      "source": [
        "item = 1\n",
        "print(list(map('{:.3f}'.format,y_pred[item])))\n",
        "print(list(map('{:.3f}'.format,y_pred_proba[item])))\n",
        "print(y_test[item])\n"
      ]
    },
    {
      "cell_type": "markdown",
      "metadata": {
        "id": "2zcwItsWiXKU"
      },
      "source": [
        "Se muestra ejemplos gráficos de la imagen a predecir"
      ]
    },
    {
      "cell_type": "code",
      "execution_count": null,
      "metadata": {
        "id": "DwxR3_leQWtV"
      },
      "outputs": [],
      "source": [
        "def plot_example(X, y):\n",
        "    \"\"\"Plot the first 5 images and their labels in a row.\"\"\"\n",
        "    for i, (img, y) in enumerate(zip(X[:5].reshape(5, 28, 28), y[:5])):\n",
        "        plt.subplot(151 + i)\n",
        "        plt.imshow(img)\n",
        "        plt.xticks([])\n",
        "        plt.yticks([])\n",
        "        plt.title(y)\n",
        "\n",
        "plot_example(x_test.values, y_test)"
      ]
    },
    {
      "cell_type": "markdown",
      "metadata": {
        "id": "8dng-Cxrib1p"
      },
      "source": [
        "Mostramos la matriz de confusión"
      ]
    },
    {
      "cell_type": "code",
      "execution_count": 140,
      "metadata": {
        "id": "3rbzxpzZWnLC"
      },
      "outputs": [],
      "source": [
        "from sklearn.metrics import confusion_matrix, ConfusionMatrixDisplay"
      ]
    },
    {
      "cell_type": "code",
      "execution_count": null,
      "metadata": {
        "id": "SlaZ5c0RWt58"
      },
      "outputs": [],
      "source": [
        "cf = confusion_matrix(y_test,list(map(np.argmax,y_pred)))\n",
        "ConfusionMatrixDisplay(cf).plot()"
      ]
    },
    {
      "cell_type": "markdown",
      "metadata": {
        "id": "HnEyheFkifE0"
      },
      "source": [
        "A fin de comparar las capacidades de nuestra red neuronal contra una regresión logística, realizamos el entrenamiento de la regresión y obtenemos los puntajes."
      ]
    },
    {
      "cell_type": "code",
      "execution_count": null,
      "metadata": {
        "id": "vpVvcNkeXNqY"
      },
      "outputs": [],
      "source": [
        "from sklearn.linear_model import LogisticRegression\n",
        "modeloLin= LogisticRegression(max_iter=1000)\n",
        "modeloLin.fit(x_train,y_train)\n"
      ]
    },
    {
      "cell_type": "code",
      "execution_count": null,
      "metadata": {
        "id": "V7SC1SoPYX08"
      },
      "outputs": [],
      "source": [
        "print(modeloLin.score(x_train,y_train))\n",
        "print(modeloLin.score(x_test,y_test))\n",
        "y_pred_lin = modeloLin.predict(x_test)\n",
        "cf2 = confusion_matrix(y_test,y_pred_lin)\n",
        "ConfusionMatrixDisplay(cf2).plot()"
      ]
    },
    {
      "cell_type": "markdown",
      "metadata": {
        "id": "_lCAQrwoio2K"
      },
      "source": [
        "Como ejercicio adicional, cambiamos la data que empleamos al fashion-mnist y observamos qué algoritmo de ML es mejor en ese caso"
      ]
    }
  ],
  "metadata": {
    "colab": {
      "collapsed_sections": [],
      "provenance": []
    },
    "kernelspec": {
      "display_name": "Python 3.10.7 ('.venv': venv)",
      "language": "python",
      "name": "python3"
    },
    "language_info": {
      "name": "python",
      "version": "3.10.7"
    },
    "vscode": {
      "interpreter": {
        "hash": "cd2d4b7167b6db956dbc56f3d3932a35a576ff6c1f35bf63ec7b930af0df862c"
      }
    }
  },
  "nbformat": 4,
  "nbformat_minor": 0
}
