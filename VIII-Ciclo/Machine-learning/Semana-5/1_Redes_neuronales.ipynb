{
 "cells": [
  {
   "cell_type": "code",
   "execution_count": 15,
   "metadata": {},
   "outputs": [],
   "source": [
    "import pandas as pd\n",
    "import numpy as np\n",
    "import matplotlib.pyplot as plt\n",
    "import tensorflow as tf"
   ]
  },
  {
   "cell_type": "code",
   "execution_count": 16,
   "metadata": {},
   "outputs": [],
   "source": [
    "data_train = pd.read_csv('./mnist_train_small.csv', header=None)\n",
    "data_test = pd.read_csv('./mnist_test.csv', header=None)"
   ]
  },
  {
   "cell_type": "code",
   "execution_count": 17,
   "metadata": {},
   "outputs": [],
   "source": [
    "x_train = data_train.drop(columns=0)\n",
    "y_train = data_train[0]\n",
    "\n",
    "x_test = data_test.drop(columns=0);\n",
    "y_test = data_test[0]"
   ]
  },
  {
   "cell_type": "code",
   "execution_count": 18,
   "metadata": {},
   "outputs": [
    {
     "name": "stdout",
     "output_type": "stream",
     "text": [
      "(20000, 784)\n",
      "(10000, 784)\n"
     ]
    }
   ],
   "source": [
    "print(x_train.shape)\n",
    "print(x_test.shape)"
   ]
  },
  {
   "cell_type": "code",
   "execution_count": 19,
   "metadata": {},
   "outputs": [],
   "source": [
    "x_train = x_train / 255.0\n",
    "x_test = x_test / 255.0"
   ]
  },
  {
   "cell_type": "code",
   "execution_count": 20,
   "metadata": {},
   "outputs": [],
   "source": [
    "modelo = tf.keras.Sequential([\n",
    "    tf.keras.layers.Input(shape=(784)),\n",
    "    tf.keras.layers.Dense(16, activation='sigmoid'),\n",
    "    tf.keras.layers.Dense(16, activation='sigmoid'),\n",
    "    tf.keras.layers.Dense(10)\n",
    "])"
   ]
  },
  {
   "cell_type": "code",
   "execution_count": 21,
   "metadata": {},
   "outputs": [],
   "source": [
    "modelo.compile(optimizer='sgd',\n",
    "               loss=tf.keras.losses.SparseCategoricalCrossentropy(from_logits=True),\n",
    "               metrics=['accuracy'])"
   ]
  },
  {
   "cell_type": "code",
   "execution_count": 22,
   "metadata": {},
   "outputs": [
    {
     "name": "stdout",
     "output_type": "stream",
     "text": [
      "Model: \"sequential_3\"\n",
      "_________________________________________________________________\n",
      " Layer (type)                Output Shape              Param #   \n",
      "=================================================================\n",
      " dense_3 (Dense)             (None, 16)                12560     \n",
      "                                                                 \n",
      " dense_4 (Dense)             (None, 16)                272       \n",
      "                                                                 \n",
      " dense_5 (Dense)             (None, 10)                170       \n",
      "                                                                 \n",
      "=================================================================\n",
      "Total params: 13,002\n",
      "Trainable params: 13,002\n",
      "Non-trainable params: 0\n",
      "_________________________________________________________________\n"
     ]
    }
   ],
   "source": [
    "modelo.summary()"
   ]
  },
  {
   "cell_type": "code",
   "execution_count": 23,
   "metadata": {},
   "outputs": [
    {
     "name": "stdout",
     "output_type": "stream",
     "text": [
      "Epoch 1/20\n",
      "625/625 [==============================] - 1s 2ms/step - loss: 2.3183 - accuracy: 0.1514 - val_loss: 2.2749 - val_accuracy: 0.2298\n",
      "Epoch 2/20\n",
      "625/625 [==============================] - 1s 2ms/step - loss: 2.2623 - accuracy: 0.2482 - val_loss: 2.2467 - val_accuracy: 0.3139\n",
      "Epoch 3/20\n",
      "625/625 [==============================] - 1s 2ms/step - loss: 2.2298 - accuracy: 0.3419 - val_loss: 2.2082 - val_accuracy: 0.3983\n",
      "Epoch 4/20\n",
      "625/625 [==============================] - 1s 1ms/step - loss: 2.1840 - accuracy: 0.4444 - val_loss: 2.1536 - val_accuracy: 0.4203\n",
      "Epoch 5/20\n",
      "625/625 [==============================] - 1s 2ms/step - loss: 2.1176 - accuracy: 0.4750 - val_loss: 2.0730 - val_accuracy: 0.4881\n",
      "Epoch 6/20\n",
      "625/625 [==============================] - 1s 1ms/step - loss: 2.0238 - accuracy: 0.4989 - val_loss: 1.9658 - val_accuracy: 0.5307\n",
      "Epoch 7/20\n",
      "625/625 [==============================] - 1s 2ms/step - loss: 1.9051 - accuracy: 0.5193 - val_loss: 1.8386 - val_accuracy: 0.5317\n",
      "Epoch 8/20\n",
      "625/625 [==============================] - 1s 2ms/step - loss: 1.7743 - accuracy: 0.5361 - val_loss: 1.7077 - val_accuracy: 0.5436\n",
      "Epoch 9/20\n",
      "625/625 [==============================] - 1s 1ms/step - loss: 1.6467 - accuracy: 0.5569 - val_loss: 1.5862 - val_accuracy: 0.5632\n",
      "Epoch 10/20\n",
      "625/625 [==============================] - 1s 2ms/step - loss: 1.5301 - accuracy: 0.5846 - val_loss: 1.4763 - val_accuracy: 0.5920\n",
      "Epoch 11/20\n",
      "625/625 [==============================] - 1s 2ms/step - loss: 1.4250 - accuracy: 0.6143 - val_loss: 1.3774 - val_accuracy: 0.6187\n",
      "Epoch 12/20\n",
      "625/625 [==============================] - 1s 1ms/step - loss: 1.3306 - accuracy: 0.6363 - val_loss: 1.2886 - val_accuracy: 0.6473\n",
      "Epoch 13/20\n",
      "625/625 [==============================] - 1s 2ms/step - loss: 1.2462 - accuracy: 0.6580 - val_loss: 1.2090 - val_accuracy: 0.6746\n",
      "Epoch 14/20\n",
      "625/625 [==============================] - 1s 1ms/step - loss: 1.1710 - accuracy: 0.6782 - val_loss: 1.1380 - val_accuracy: 0.6946\n",
      "Epoch 15/20\n",
      "625/625 [==============================] - 1s 2ms/step - loss: 1.1040 - accuracy: 0.6986 - val_loss: 1.0751 - val_accuracy: 0.7006\n",
      "Epoch 16/20\n",
      "625/625 [==============================] - 1s 1ms/step - loss: 1.0444 - accuracy: 0.7110 - val_loss: 1.0182 - val_accuracy: 0.7244\n",
      "Epoch 17/20\n",
      "625/625 [==============================] - 1s 1ms/step - loss: 0.9909 - accuracy: 0.7301 - val_loss: 0.9672 - val_accuracy: 0.7412\n",
      "Epoch 18/20\n",
      "625/625 [==============================] - 1s 2ms/step - loss: 0.9431 - accuracy: 0.7485 - val_loss: 0.9215 - val_accuracy: 0.7499\n",
      "Epoch 19/20\n",
      "625/625 [==============================] - 1s 1ms/step - loss: 0.9000 - accuracy: 0.7615 - val_loss: 0.8804 - val_accuracy: 0.7626\n",
      "Epoch 20/20\n",
      "625/625 [==============================] - 1s 1ms/step - loss: 0.8609 - accuracy: 0.7746 - val_loss: 0.8429 - val_accuracy: 0.7810\n"
     ]
    }
   ],
   "source": [
    "historial = modelo.fit(x_train, y_train,\n",
    "                       validation_data=(x_test, y_test),\n",
    "                       epochs=20)"
   ]
  },
  {
   "cell_type": "code",
   "execution_count": 24,
   "metadata": {},
   "outputs": [
    {
     "data": {
      "text/plain": [
       "<matplotlib.legend.Legend at 0x7f4ee72da710>"
      ]
     },
     "execution_count": 24,
     "metadata": {},
     "output_type": "execute_result"
    },
    {
     "data": {
      "image/png": "[encoded data removed]",
      "text/plain": [
       "<Figure size 640x480 with 1 Axes>"
      ]
     },
     "metadata": {},
     "output_type": "display_data"
    }
   ],
   "source": [
    "acc = historial.history['accuracy']\n",
    "val_acc = historial.history['val_accuracy']\n",
    "loss = historial.history['loss']\n",
    "val_loss = historial.history['val_loss']\n",
    "\n",
    "plt.plot(range(20),acc,label='Entrenamiento')\n",
    "plt.plot(range(20),val_acc,label='Validacion')\n",
    "plt.legend(loc='lower right')"
   ]
  },
  {
   "cell_type": "code",
   "execution_count": 25,
   "metadata": {},
   "outputs": [
    {
     "name": "stdout",
     "output_type": "stream",
     "text": [
      "1/1 [==============================] - 0s 53ms/step\n",
      "['-1.791', '-0.025', '-2.633', '0.720', '1.473', '1.267', '-2.825', '4.255', '1.139', '3.153']\n",
      "1/1 [==============================] - 0s 75ms/step\n",
      "['0.002', '0.009', '0.001', '0.019', '0.040', '0.033', '0.001', '0.651', '0.029', '0.216']\n"
     ]
    }
   ],
   "source": [
    "y_pred = modelo.predict(x_test[:1])\n",
    "print(list(map('{:.3f}'.format,y_pred[0])))\n",
    "\n",
    "modelo_probabilidad = tf.keras.Sequential([modelo, tf.keras.layers.Softmax()])\n",
    "y_pred_proba = modelo_probabilidad.predict(x_test[:1])\n",
    "print(list(map('{:.3f}'.format,y_pred_proba[0])))"
   ]
  },
  {
   "cell_type": "code",
   "execution_count": 26,
   "metadata": {},
   "outputs": [
    {
     "name": "stdout",
     "output_type": "stream",
     "text": [
      "313/313 [==============================] - 0s 768us/step\n",
      "313/313 [==============================] - 0s 775us/step\n"
     ]
    }
   ],
   "source": [
    "y_pred = modelo.predict(x_test)\n",
    "modelo_probabilidad = tf.keras.Sequential([modelo, tf.keras.layers.Softmax()])\n",
    "y_pred_proba = modelo_probabilidad.predict(x_test)"
   ]
  },
  {
   "cell_type": "code",
   "execution_count": 27,
   "metadata": {},
   "outputs": [
    {
     "name": "stdout",
     "output_type": "stream",
     "text": [
      "['-4.660', '4.510', '0.061', '1.069', '0.024', '-0.276', '-0.178', '1.652', '0.735', '0.555']\n",
      "['0.000', '0.853', '0.010', '0.027', '0.010', '0.007', '0.008', '0.049', '0.020', '0.016']\n",
      "1\n"
     ]
    }
   ],
   "source": [
    "print(list(map('{:.3f}'.format,y_pred[5])))\n",
    "print(list(map('{:.3f}'.format,y_pred_proba[5])))\n",
    "print(y_test[5])"
   ]
  },
  {
   "cell_type": "code",
   "execution_count": 28,
   "metadata": {},
   "outputs": [],
   "source": [
    "def plot_example(X, y):\n",
    "    \"\"\"Plot the first 5 images and their labels in a row.\"\"\"\n",
    "    for i, (img, y) in enumerate(zip(X[:5].reshape(5, 28, 28), y[:5])):\n",
    "        plt.subplot(151 + i)\n",
    "        plt.imshow(img)\n",
    "        plt.xticks([])\n",
    "        plt.yticks([])\n",
    "        plt.title(y)"
   ]
  }
 ],
 "metadata": {
  "kernelspec": {
   "display_name": "Python 3.10.7 ('.venv': venv)",
   "language": "python",
   "name": "python3"
  },
  "language_info": {
   "codemirror_mode": {
    "name": "ipython",
    "version": 3
   },
   "file_extension": ".py",
   "mimetype": "text/x-python",
   "name": "python",
   "nbconvert_exporter": "python",
   "pygments_lexer": "ipython3",
   "version": "3.10.7"
  },
  "orig_nbformat": 4,
  "vscode": {
   "interpreter": {
    "hash": "cd2d4b7167b6db956dbc56f3d3932a35a576ff6c1f35bf63ec7b930af0df862c"
   }
  }
 },
 "nbformat": 4,
 "nbformat_minor": 2
}
