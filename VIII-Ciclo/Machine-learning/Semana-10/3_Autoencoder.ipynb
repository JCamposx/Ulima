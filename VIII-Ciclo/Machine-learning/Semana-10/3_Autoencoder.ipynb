{
  "cells": [
    {
      "cell_type": "code",
      "execution_count": 15,
      "metadata": {
        "id": "EBApztDbYZXe"
      },
      "outputs": [],
      "source": [
        "import keras\n",
        "from keras import layers\n",
        "\n",
        "# This is the size of our encoded representations\n",
        "encoding_dim = 32  # 32 floats -> compression of factor 24.5, assuming the input is 784 floats\n",
        "\n",
        "# This is our input image\n",
        "input_img = keras.Input(shape=(784,))\n",
        "# \"encoded\" is the encoded representation of the input\n",
        "encoded = layers.Dense(encoding_dim, activation='relu')(input_img)\n",
        "# \"decoded\" is the lossy reconstruction of the input\n",
        "decoded = layers.Dense(784, activation='sigmoid')(encoded)\n",
        "\n",
        "# This model maps an input to its reconstruction\n",
        "autoencoder = keras.Model(input_img, decoded)"
      ]
    },
    {
      "cell_type": "code",
      "execution_count": 16,
      "metadata": {
        "id": "tBgkF9OcaTKx"
      },
      "outputs": [],
      "source": [
        "# This model maps an input to its encoded representation\n",
        "encoder = keras.Model(input_img, encoded)\n",
        "# This is our encoded (32-dimensional) input\n",
        "encoded_input = keras.Input(shape=(encoding_dim,))\n",
        "# Retrieve the last layer of the autoencoder model\n",
        "decoder_layer = autoencoder.layers[-1]\n",
        "# Create the decoder model\n",
        "decoder = keras.Model(encoded_input, decoder_layer(encoded_input))"
      ]
    },
    {
      "cell_type": "code",
      "execution_count": 17,
      "metadata": {
        "id": "VJa6xvHAaURI"
      },
      "outputs": [],
      "source": [
        "autoencoder.compile(optimizer='adam', loss='binary_crossentropy')"
      ]
    },
    {
      "cell_type": "code",
      "execution_count": 18,
      "metadata": {
        "colab": {
          "base_uri": "https://localhost:8080/"
        },
        "id": "iHLtHsjhaVbo",
        "outputId": "b8a649e8-d03f-4159-f465-8d9cf68cd9a5"
      },
      "outputs": [],
      "source": [
        "from keras.datasets import mnist\n",
        "import numpy as np\n",
        "(x_train, y_train), (x_test, y_test) = mnist.load_data()"
      ]
    },
    {
      "cell_type": "code",
      "execution_count": 19,
      "metadata": {
        "colab": {
          "base_uri": "https://localhost:8080/"
        },
        "id": "XqN8cIYDaWSr",
        "outputId": "b60d26a7-4302-459c-e740-eb13fd460874"
      },
      "outputs": [
        {
          "name": "stdout",
          "output_type": "stream",
          "text": [
            "(60000, 784)\n",
            "(10000, 784)\n"
          ]
        }
      ],
      "source": [
        "x_train = x_train.astype('float32') / 255.\n",
        "x_test = x_test.astype('float32') / 255.\n",
        "x_train = x_train.reshape((len(x_train), np.prod(x_train.shape[1:])))\n",
        "x_test = x_test.reshape((len(x_test), np.prod(x_test.shape[1:])))\n",
        "print(x_train.shape)\n",
        "print(x_test.shape)"
      ]
    },
    {
      "cell_type": "code",
      "execution_count": 20,
      "metadata": {
        "colab": {
          "base_uri": "https://localhost:8080/"
        },
        "id": "bzpOTUPBaXTh",
        "outputId": "d4847a12-9682-48d3-becf-17ef704e5cbe"
      },
      "outputs": [
        {
          "name": "stdout",
          "output_type": "stream",
          "text": [
            "Epoch 1/50\n",
            "235/235 [==============================] - 1s 2ms/step - loss: 0.2776 - val_loss: 0.1910\n",
            "Epoch 2/50\n",
            "235/235 [==============================] - 0s 1ms/step - loss: 0.1722 - val_loss: 0.1547\n",
            "Epoch 3/50\n",
            "235/235 [==============================] - 0s 2ms/step - loss: 0.1450 - val_loss: 0.1339\n",
            "Epoch 4/50\n",
            "235/235 [==============================] - 0s 2ms/step - loss: 0.1285 - val_loss: 0.1209\n",
            "Epoch 5/50\n",
            "235/235 [==============================] - 0s 2ms/step - loss: 0.1181 - val_loss: 0.1126\n",
            "Epoch 6/50\n",
            "235/235 [==============================] - 0s 1ms/step - loss: 0.1110 - val_loss: 0.1071\n",
            "Epoch 7/50\n",
            "235/235 [==============================] - 0s 1ms/step - loss: 0.1060 - val_loss: 0.1027\n",
            "Epoch 8/50\n",
            "235/235 [==============================] - 0s 2ms/step - loss: 0.1023 - val_loss: 0.0995\n",
            "Epoch 9/50\n",
            "235/235 [==============================] - 0s 1ms/step - loss: 0.0997 - val_loss: 0.0973\n",
            "Epoch 10/50\n",
            "235/235 [==============================] - 0s 1ms/step - loss: 0.0977 - val_loss: 0.0957\n",
            "Epoch 11/50\n",
            "235/235 [==============================] - 0s 1ms/step - loss: 0.0964 - val_loss: 0.0947\n",
            "Epoch 12/50\n",
            "235/235 [==============================] - 0s 1ms/step - loss: 0.0956 - val_loss: 0.0940\n",
            "Epoch 13/50\n",
            "235/235 [==============================] - 0s 2ms/step - loss: 0.0950 - val_loss: 0.0935\n",
            "Epoch 14/50\n",
            "235/235 [==============================] - 0s 1ms/step - loss: 0.0946 - val_loss: 0.0931\n",
            "Epoch 15/50\n",
            "235/235 [==============================] - 0s 1ms/step - loss: 0.0943 - val_loss: 0.0929\n",
            "Epoch 16/50\n",
            "235/235 [==============================] - 0s 2ms/step - loss: 0.0940 - val_loss: 0.0927\n",
            "Epoch 17/50\n",
            "235/235 [==============================] - 0s 2ms/step - loss: 0.0939 - val_loss: 0.0926\n",
            "Epoch 18/50\n",
            "235/235 [==============================] - 0s 2ms/step - loss: 0.0937 - val_loss: 0.0925\n",
            "Epoch 19/50\n",
            "235/235 [==============================] - 0s 2ms/step - loss: 0.0936 - val_loss: 0.0923\n",
            "Epoch 20/50\n",
            "235/235 [==============================] - 0s 2ms/step - loss: 0.0935 - val_loss: 0.0924\n",
            "Epoch 21/50\n",
            "235/235 [==============================] - 0s 1ms/step - loss: 0.0934 - val_loss: 0.0923\n",
            "Epoch 22/50\n",
            "235/235 [==============================] - 0s 1ms/step - loss: 0.0934 - val_loss: 0.0922\n",
            "Epoch 23/50\n",
            "235/235 [==============================] - 0s 2ms/step - loss: 0.0933 - val_loss: 0.0922\n",
            "Epoch 24/50\n",
            "235/235 [==============================] - 0s 2ms/step - loss: 0.0932 - val_loss: 0.0920\n",
            "Epoch 25/50\n",
            "235/235 [==============================] - 0s 2ms/step - loss: 0.0932 - val_loss: 0.0921\n",
            "Epoch 26/50\n",
            "235/235 [==============================] - 0s 2ms/step - loss: 0.0931 - val_loss: 0.0919\n",
            "Epoch 27/50\n",
            "235/235 [==============================] - 0s 2ms/step - loss: 0.0931 - val_loss: 0.0919\n",
            "Epoch 28/50\n",
            "235/235 [==============================] - 0s 2ms/step - loss: 0.0931 - val_loss: 0.0919\n",
            "Epoch 29/50\n",
            "235/235 [==============================] - 0s 2ms/step - loss: 0.0930 - val_loss: 0.0919\n",
            "Epoch 30/50\n",
            "235/235 [==============================] - 0s 2ms/step - loss: 0.0930 - val_loss: 0.0920\n",
            "Epoch 31/50\n",
            "235/235 [==============================] - 0s 2ms/step - loss: 0.0930 - val_loss: 0.0918\n",
            "Epoch 32/50\n",
            "235/235 [==============================] - 0s 1ms/step - loss: 0.0930 - val_loss: 0.0918\n",
            "Epoch 33/50\n",
            "235/235 [==============================] - 0s 1ms/step - loss: 0.0929 - val_loss: 0.0918\n",
            "Epoch 34/50\n",
            "235/235 [==============================] - 0s 2ms/step - loss: 0.0929 - val_loss: 0.0918\n",
            "Epoch 35/50\n",
            "235/235 [==============================] - 0s 2ms/step - loss: 0.0929 - val_loss: 0.0919\n",
            "Epoch 36/50\n",
            "235/235 [==============================] - 0s 2ms/step - loss: 0.0929 - val_loss: 0.0917\n",
            "Epoch 37/50\n",
            "235/235 [==============================] - 0s 2ms/step - loss: 0.0929 - val_loss: 0.0918\n",
            "Epoch 38/50\n",
            "235/235 [==============================] - 0s 2ms/step - loss: 0.0928 - val_loss: 0.0916\n",
            "Epoch 39/50\n",
            "235/235 [==============================] - 0s 2ms/step - loss: 0.0928 - val_loss: 0.0916\n",
            "Epoch 40/50\n",
            "235/235 [==============================] - 0s 2ms/step - loss: 0.0928 - val_loss: 0.0917\n",
            "Epoch 41/50\n",
            "235/235 [==============================] - 0s 2ms/step - loss: 0.0928 - val_loss: 0.0916\n",
            "Epoch 42/50\n",
            "235/235 [==============================] - 0s 1ms/step - loss: 0.0928 - val_loss: 0.0917\n",
            "Epoch 43/50\n",
            "235/235 [==============================] - 0s 2ms/step - loss: 0.0927 - val_loss: 0.0916\n",
            "Epoch 44/50\n",
            "235/235 [==============================] - 0s 2ms/step - loss: 0.0927 - val_loss: 0.0917\n",
            "Epoch 45/50\n",
            "235/235 [==============================] - 0s 2ms/step - loss: 0.0927 - val_loss: 0.0916\n",
            "Epoch 46/50\n",
            "235/235 [==============================] - 0s 2ms/step - loss: 0.0927 - val_loss: 0.0916\n",
            "Epoch 47/50\n",
            "235/235 [==============================] - 0s 2ms/step - loss: 0.0927 - val_loss: 0.0918\n",
            "Epoch 48/50\n",
            "235/235 [==============================] - 0s 2ms/step - loss: 0.0927 - val_loss: 0.0916\n",
            "Epoch 49/50\n",
            "235/235 [==============================] - 0s 2ms/step - loss: 0.0927 - val_loss: 0.0916\n",
            "Epoch 50/50\n",
            "235/235 [==============================] - 0s 2ms/step - loss: 0.0927 - val_loss: 0.0916\n"
          ]
        },
        {
          "data": {
            "text/plain": [
              "<keras.callbacks.History at 0x7fdc052944c0>"
            ]
          },
          "execution_count": 20,
          "metadata": {},
          "output_type": "execute_result"
        }
      ],
      "source": [
        "autoencoder.fit(x_train, x_train,\n",
        "                epochs=50,\n",
        "                batch_size=256,\n",
        "                shuffle=True,\n",
        "                validation_data=(x_test, x_test))"
      ]
    },
    {
      "cell_type": "code",
      "execution_count": 21,
      "metadata": {
        "id": "f41nrtrkaYlD"
      },
      "outputs": [
        {
          "name": "stdout",
          "output_type": "stream",
          "text": [
            "313/313 [==============================] - 0s 449us/step\n",
            "313/313 [==============================] - 0s 441us/step\n"
          ]
        }
      ],
      "source": [
        "encoded_imgs = encoder.predict(x_test)\n",
        "decoded_imgs = decoder.predict(encoded_imgs)"
      ]
    },
    {
      "cell_type": "code",
      "execution_count": 22,
      "metadata": {
        "colab": {
          "base_uri": "https://localhost:8080/",
          "height": 248
        },
        "id": "DtvUEiaWaZ5j",
        "outputId": "b2e34cd6-27ed-49ab-a699-bdce5eec8578"
      },
      "outputs": [
        {
          "data": {
            "image/png": "[encoded data removed]",
            "text/plain": [
              "<Figure size 2000x400 with 20 Axes>"
            ]
          },
          "metadata": {},
          "output_type": "display_data"
        }
      ],
      "source": [
        "import matplotlib.pyplot as plt\n",
        "\n",
        "n = 10  # How many digits we will display\n",
        "plt.figure(figsize=(20, 4))\n",
        "for i in range(n):\n",
        "    # Display original\n",
        "    ax = plt.subplot(2, n, i + 1)\n",
        "    plt.imshow(x_test[i].reshape(28, 28))\n",
        "    plt.gray()\n",
        "    ax.get_xaxis().set_visible(False)\n",
        "    ax.get_yaxis().set_visible(False)\n",
        "\n",
        "    # Display reconstruction\n",
        "    ax = plt.subplot(2, n, i + 1 + n)\n",
        "    plt.imshow(decoded_imgs[i].reshape(28, 28))\n",
        "    plt.gray()\n",
        "    ax.get_xaxis().set_visible(False)\n",
        "    ax.get_yaxis().set_visible(False)\n",
        "plt.show()"
      ]
    },
    {
      "cell_type": "code",
      "execution_count": 23,
      "metadata": {
        "id": "MkKh31LBB4rL"
      },
      "outputs": [
        {
          "name": "stdout",
          "output_type": "stream",
          "text": [
            "313/313 [==============================] - 0s 458us/step\n"
          ]
        },
        {
          "data": {
            "image/png": "[encoded data removed]",
            "text/plain": [
              "<Figure size 2000x800 with 10 Axes>"
            ]
          },
          "metadata": {},
          "output_type": "display_data"
        }
      ],
      "source": [
        "encoded_imgs = encoder.predict(x_test)\n",
        "\n",
        "n = 10\n",
        "plt.figure(figsize=(20, 8))\n",
        "for i in range(1, n + 1):\n",
        "    ax = plt.subplot(1, n, i)\n",
        "    plt.imshow(encoded_imgs[i].reshape((8, 4)).T)\n",
        "    plt.gray()\n",
        "    ax.get_xaxis().set_visible(False)\n",
        "    ax.get_yaxis().set_visible(False)\n",
        "plt.show()"
      ]
    },
    {
      "cell_type": "code",
      "execution_count": 24,
      "metadata": {
        "id": "fnRMNyV9CC3s"
      },
      "outputs": [
        {
          "name": "stdout",
          "output_type": "stream",
          "text": [
            "1875/1875 [==============================] - 1s 488us/step\n",
            "313/313 [==============================] - 0s 451us/step\n"
          ]
        },
        {
          "name": "stderr",
          "output_type": "stream",
          "text": [
            "/home/jesus/Ulima/VIII-Ciclo/Machine-learning/.venv/lib/python3.10/site-packages/sklearn/linear_model/_logistic.py:444: ConvergenceWarning: lbfgs failed to converge (status=1):\n",
            "STOP: TOTAL NO. of ITERATIONS REACHED LIMIT.\n",
            "\n",
            "Increase the number of iterations (max_iter) or scale the data as shown in:\n",
            "    https://scikit-learn.org/stable/modules/preprocessing.html\n",
            "Please also refer to the documentation for alternative solver options:\n",
            "    https://scikit-learn.org/stable/modules/linear_model.html#logistic-regression\n",
            "  n_iter_i = _check_optimize_result(\n"
          ]
        },
        {
          "name": "stdout",
          "output_type": "stream",
          "text": [
            "Accuracy\n",
            "Regresion Logistica: 92.5600%\n",
            "Autoencoder: 89.7300%\n"
          ]
        },
        {
          "name": "stderr",
          "output_type": "stream",
          "text": [
            "/home/jesus/Ulima/VIII-Ciclo/Machine-learning/.venv/lib/python3.10/site-packages/sklearn/linear_model/_logistic.py:444: ConvergenceWarning: lbfgs failed to converge (status=1):\n",
            "STOP: TOTAL NO. of ITERATIONS REACHED LIMIT.\n",
            "\n",
            "Increase the number of iterations (max_iter) or scale the data as shown in:\n",
            "    https://scikit-learn.org/stable/modules/preprocessing.html\n",
            "Please also refer to the documentation for alternative solver options:\n",
            "    https://scikit-learn.org/stable/modules/linear_model.html#logistic-regression\n",
            "  n_iter_i = _check_optimize_result(\n"
          ]
        }
      ],
      "source": [
        "from sklearn.linear_model import LogisticRegression\n",
        "\n",
        "x_enc_train = encoder.predict(x_train)\n",
        "x_enc_test = encoder.predict(x_test)\n",
        "\n",
        "modelo = LogisticRegression()\n",
        "modelo.fit(x_train,y_train)\n",
        "\n",
        "modeloAutoEncoder = LogisticRegression()\n",
        "modeloAutoEncoder.fit(x_enc_train,y_train)\n",
        "\n",
        "print(f\"Accuracy\")\n",
        "print(f\"Regresion Logistica: {modelo.score(x_test,y_test)*100:.4f}%\")\n",
        "print(f\"Autoencoder: {modeloAutoEncoder.score(x_enc_test,y_test)*100:.4f}%\")"
      ]
    },
    {
      "cell_type": "code",
      "execution_count": 25,
      "metadata": {},
      "outputs": [],
      "source": [
        "autoencoder.save(\"./autoencoder.h5\",save_format='h5')"
      ]
    },
    {
      "cell_type": "code",
      "execution_count": 26,
      "metadata": {},
      "outputs": [],
      "source": [
        "reconstructed_model = keras.models.load_model(\"./autoencoder.h5\")"
      ]
    },
    {
      "cell_type": "code",
      "execution_count": 27,
      "metadata": {},
      "outputs": [
        {
          "name": "stdout",
          "output_type": "stream",
          "text": [
            "Model: \"model_4\"\n",
            "_________________________________________________________________\n",
            " Layer (type)                Output Shape              Param #   \n",
            "=================================================================\n",
            " input_4 (InputLayer)        [(None, 784)]             0         \n",
            "                                                                 \n",
            " dense_4 (Dense)             (None, 32)                25120     \n",
            "                                                                 \n",
            " dense_5 (Dense)             (None, 784)               25872     \n",
            "                                                                 \n",
            "=================================================================\n",
            "Total params: 50,992\n",
            "Trainable params: 50,992\n",
            "Non-trainable params: 0\n",
            "_________________________________________________________________\n"
          ]
        }
      ],
      "source": [
        "reconstructed_model.summary()"
      ]
    }
  ],
  "metadata": {
    "accelerator": "GPU",
    "colab": {
      "collapsed_sections": [],
      "provenance": []
    },
    "kernelspec": {
      "display_name": "Python 3.10.8 ('.venv': venv)",
      "language": "python",
      "name": "python3"
    },
    "language_info": {
      "codemirror_mode": {
        "name": "ipython",
        "version": 3
      },
      "file_extension": ".py",
      "mimetype": "text/x-python",
      "name": "python",
      "nbconvert_exporter": "python",
      "pygments_lexer": "ipython3",
      "version": "3.10.8"
    },
    "vscode": {
      "interpreter": {
        "hash": "cd2d4b7167b6db956dbc56f3d3932a35a576ff6c1f35bf63ec7b930af0df862c"
      }
    }
  },
  "nbformat": 4,
  "nbformat_minor": 0
}
